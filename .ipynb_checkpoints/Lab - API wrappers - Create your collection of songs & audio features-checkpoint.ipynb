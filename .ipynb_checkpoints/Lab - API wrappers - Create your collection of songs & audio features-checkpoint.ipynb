{
 "cells": [
  {
   "cell_type": "code",
   "execution_count": 1,
   "id": "144841b7",
   "metadata": {},
   "outputs": [],
   "source": [
    "import spotipy\n",
    "from spotipy.oauth2 import SpotifyClientCredentials\n",
    "import pandas as pd"
   ]
  },
  {
   "cell_type": "code",
   "execution_count": 2,
   "id": "33c8d28a",
   "metadata": {},
   "outputs": [],
   "source": [
    "sp = spotipy.Spotify(auth_manager=SpotifyClientCredentials(client_id='01a8d66b15074589b317cf0551577652',\n",
    "                                                          client_secret='6c47eafc6cd047bea3f2bbc1a4a9f756'))"
   ]
  },
  {
   "cell_type": "code",
   "execution_count": 128,
   "id": "27e356c9",
   "metadata": {},
   "outputs": [],
   "source": [
    "playlist = sp.user_playlist_tracks(\"spotify\", \"5orZL8SetQM1LR3pMXZMOa\")"
   ]
  },
  {
   "cell_type": "code",
   "execution_count": 29,
   "id": "2de938a5",
   "metadata": {},
   "outputs": [],
   "source": [
    "# playlist"
   ]
  },
  {
   "cell_type": "code",
   "execution_count": 54,
   "id": "ba8343a5",
   "metadata": {},
   "outputs": [
    {
     "data": {
      "text/plain": [
       "dict_keys(['collaborative', 'description', 'external_urls', 'followers', 'href', 'id', 'images', 'name', 'owner', 'primary_color', 'public', 'snapshot_id', 'tracks', 'type', 'uri'])"
      ]
     },
     "execution_count": 54,
     "metadata": {},
     "output_type": "execute_result"
    }
   ],
   "source": [
    "playlist.keys()"
   ]
  },
  {
   "cell_type": "code",
   "execution_count": 57,
   "id": "f8d7b15d",
   "metadata": {},
   "outputs": [
    {
     "data": {
      "text/plain": [
       "dict_keys(['href', 'items', 'limit', 'next', 'offset', 'previous', 'total'])"
      ]
     },
     "execution_count": 57,
     "metadata": {},
     "output_type": "execute_result"
    }
   ],
   "source": [
    "playlist['tracks'].keys()"
   ]
  },
  {
   "cell_type": "code",
   "execution_count": 32,
   "id": "ef74148f",
   "metadata": {},
   "outputs": [
    {
     "data": {
      "text/plain": [
       "dict_keys(['album', 'artists', 'available_markets', 'disc_number', 'duration_ms', 'episode', 'explicit', 'external_ids', 'external_urls', 'href', 'id', 'is_local', 'name', 'popularity', 'preview_url', 'track', 'track_number', 'type', 'uri'])"
      ]
     },
     "execution_count": 32,
     "metadata": {},
     "output_type": "execute_result"
    }
   ],
   "source": [
    "playlist['items'][0]['track'].keys()"
   ]
  },
  {
   "cell_type": "code",
   "execution_count": 33,
   "id": "1e2a2fc0",
   "metadata": {},
   "outputs": [
    {
     "data": {
      "text/plain": [
       "653"
      ]
     },
     "execution_count": 33,
     "metadata": {},
     "output_type": "execute_result"
    }
   ],
   "source": [
    "playlist['total']"
   ]
  },
  {
   "cell_type": "code",
   "execution_count": 34,
   "id": "216b0c77",
   "metadata": {},
   "outputs": [
    {
     "data": {
      "text/plain": [
       "'https://api.spotify.com/v1/playlists/5orZL8SetQM1LR3pMXZMOa/tracks?offset=100&limit=100&additional_types=track'"
      ]
     },
     "execution_count": 34,
     "metadata": {},
     "output_type": "execute_result"
    }
   ],
   "source": [
    "playlist[\"next\"] "
   ]
  },
  {
   "cell_type": "code",
   "execution_count": 195,
   "id": "64390197",
   "metadata": {},
   "outputs": [],
   "source": [
    "# playlist['tracks']['items']"
   ]
  },
  {
   "cell_type": "code",
   "execution_count": 74,
   "id": "9203c369",
   "metadata": {
    "scrolled": true
   },
   "outputs": [
    {
     "name": "stdout",
     "output_type": "stream",
     "text": [
      "100\n",
      "['6OZh916QF8XNunWaP97WEZ', '25C5CowdsfXld2jJanbiex', '4saklk6nie3yiGePpBwUoc', '3tjFYV6RSFtuktYl3ZtYcq', '4lYTkvMkcNRj9uoSr8Zpws', '24ySl2hOPGCDcxBxFIqWBu', '0ct6r3EGTcMLPtrXHDvVjc', '2b8fOow8UzyDFAE27YhOZM', '1xQ6trAsedVPCdbtDAmk0c', '4WrS6vezaPwOafKJmHqMEU', '0sf12qNH5qcw8qpgymFOqD', '2Oycxb8QbPkpHTo8ZrmG0B', '7qEHsqek33rTcFNT9PFqLf', '24Yi9hE78yPEbZ4kxyoXAI', '6RsWqX8zABZLhZydXxEFOm', '1rgnBhdG2JDFTbYkYRZAku', '4Zpe9VME8DiFjLdqSqPRoZ', '0NwHcjsMMGgolX6CXFDwQT', '7gBj0VgcuAgkXkiRRYvSmK', '1CUVN2kn7mW5FjkqXTR2W1', '0KsB4TwgATg88aXCMBoO3Y', '5SxkdsY1ufZzoq9iXceLw9', '6nYoTBmGFNgfTyRC8x1Fvp', '0r4SsYcwvd8URat6AS2m6f', '0Y4hwUppbGc8aIBmiTz30A', '66hayvUbTotekKU3H4ta1f', '1gm616Plq4ScqNi7TVkZ5N', '6NFyWDv5CjfwuzoCkw47Xf', '5a7NdkF09AfD0H607eiOkX', '4EAV2cKiqKP5UPZmY6dejk', '1UfBAJfmofTffrae5ls6DA', '6y68QK2SwC38YxsbxHrA8I', '79jX8RM5CgPqDKdGEKNW9K', '4umIPjkehX1r7uhmGvXiSV', '3n3b5WNEohHP7Ou4ndBo6b', '1fWlO0aGCnI1ldWDMUrOyB', '4iZPNYqzI2L0uwuUKun7Aa', '5Sf3GyLEAzJXxZ5mbCPXTu', '1brwdYwjltrJo7WHpIvbYt', '69uxyAqqPIsUyTO8txoP2M', '0SJPThTy7ynySPF4euczx7', '6b3b7lILUJqXcp6w9wNQSm', '0gb1J5UrTpzaU1s3nupgCd', '1ixphys4A3NEXp6MDScfih', '0azC730Exh71aQlOt9Zj3y', '5YHR8wBR5jXfGtP766NiAT', '6JV2JOEocMgcZxYSZelKcc', '1z5jOmNswvnzjC5gFLu5Dv', '7py16W5fWYLFFS6BElKAjn', '1i1fxkWeaMmKEB4T7zqbzK', '5mMRgTxoeBjEAZdBjPGvaC', '7n9bPHZvl5UvmLPhNjUH1C', '3cNjgVBKTJ1SvKhunrCdVy', '6ZSO7kPn8IMJFymyticbJO', '2u0RIiyxi897MgTaky1sf1', '2CPqh63wRVscbceKcPxwvv', '6DNtNfH8hXkqOX1sjqmI7p', '23L5CiUhw2jV1OIMwthR3S', '3XIIOCu6B8PuGq5j61asEM', '4cSR8iebRqGXHFHo7lHIpm', '50kpGaPAhYJ3sGmk6vplg0', '6nRwc5GgNvBMkKaynhQzrm', '3O09PoBmmhotSUxLZfcRP0', '2uEJanMvnA1dXgX1ASnPQm', '7q0aQpiLv5tIsupcgQ3Ny4', '5tjrH5xrpkgKgYd8zQgU8X', '7MmG8p0F9N3C4AXdK6o6Eb', '5fnA9mkIfScSqHIpeDyvck', '0sQLhT32E9ZG2zn5iYR6nN', '5b2bu6yyATC1zMXDGScJ2d', '6izhPbUU3CeMYvTT74YHnb', '0fYVliAYKHuPmECRs1pbRf', '74Xdx4ezYQQlg8wKswq25T', '3zkWCteF82vJwv0hRLba76', '6ukMqDxnOPOgoHdak7Kyp3', '2hsza71y54ABzmabyNDtM4', '6wMeMFLaD4NCxXzkXgkuM1', '53b7YqVw2Vc1oRrYeOm7z7', '0HFx7PLqzGxSfN59j3UHmR', '7xoUc6faLbCqZO6fQEYprd', '7wqSzGeodspE3V6RBD5W8L', '4orphgwPHHRsdEkfUmANSD', '1tIUfYWKAeMEeQqL6venu0', '34gCuhDGsG4bRPIf9bb02f', '7fPHfBCyKE3aVCBjE4DAvl', '7ioiB40H9xKs04QtIso2I3', '15DrrIod12Tc2IoMaHiwlQ', '0xCmwofyCiXdhoBsMSNj2w', '3DnzEB8Ffnp5sjnCbOugUX', '78TTtXnFQPzwqlbtbwqN0y', '1i1rNVtxbE7rdFfpHuNq2j', '6Knv6wdA0luoMUuuoYi2i1', '57kR5SniQIbsbVoIjjOUDa', '00GfiT5AxTNSDQihPeMRkM', '7yq4Qj7cqayVTp3FF9CWbm', '4qABfS1RaGVXdBhj2BQyhO', '1ip2IGDWMrUmlaepEbWlL8', '1VbhR6D6zUoSTBzvnRonXO', '3bT5PDBhVj4ifU11zQvGP2', '1KZyVnyptQcPzkx7ELCnZC']\n"
     ]
    }
   ],
   "source": [
    "def getTrackIDs(user, playlist_id):\n",
    "    track_ids = []\n",
    "    results = sp.user_playlist(user, playlist_id)\n",
    "    for item in results['tracks']['items']:\n",
    "        track = item['track']\n",
    "        track_ids.append(track['id']) \n",
    "\n",
    "    return track_ids\n",
    "\n",
    "track_ids = getTrackIDs('spotify', '5orZL8SetQM1LR3pMXZMOa')\n",
    "\n",
    "print(len(track_ids))\n",
    "print(track_ids)"
   ]
  },
  {
   "cell_type": "code",
   "execution_count": null,
   "id": "63bdd60b",
   "metadata": {},
   "outputs": [],
   "source": [
    "#     tracks = results['tracks']['items']\n",
    "#         while results['tracks']['next']!=None:\n",
    "#             results = sp.next(results['tracks'])\n",
    "#             tracks = tracks + results['tracks']['items']\n",
    " "
   ]
  },
  {
   "cell_type": "code",
   "execution_count": 44,
   "id": "d498aeea",
   "metadata": {},
   "outputs": [],
   "source": [
    "# this is for 100 songs but dataframe(df_final) for the rest is at the end\n",
    "\n",
    "\n",
    "def getTrackFeatures(id):\n",
    "    track_info = sp.track(id)\n",
    "    features_info = sp.audio_features(id)\n",
    "    \n",
    "    name = track_info['name']\n",
    "    album = track_info['album']['name']\n",
    "    artist = track_info['album']['artists'][0]['name']\n",
    "    release_date = track_info['album']['release_date']\n",
    "    length = track_info['duration_ms']\n",
    "    popularity = track_info['popularity']\n",
    "    \n",
    "    acousticness = features_info[0]['acousticness']\n",
    "    danceability = features_info[0]['danceability']\n",
    "    energy = features_info[0]['energy']\n",
    "    instrumentalness = features_info[0]['instrumentalness'] \n",
    "    liveness = features_info[0]['liveness']\n",
    "    loudness = features_info[0]['loudness']\n",
    "    speechiness = features_info[0]['speechiness']\n",
    "    tempo = features_info[0]['tempo']\n",
    "    time_signature = features_info[0]['time_signature']\n",
    "    \n",
    "    track_data = [name, album, artist, release_date, length, popularity, acousticness, danceability, energy, \n",
    "                  instrumentalness, liveness, loudness, speechiness, tempo, time_signature]\n",
    "    return track_data"
   ]
  },
  {
   "cell_type": "code",
   "execution_count": 47,
   "id": "1f6fa610",
   "metadata": {},
   "outputs": [
    {
     "data": {
      "text/html": [
       "<div>\n",
       "<style scoped>\n",
       "    .dataframe tbody tr th:only-of-type {\n",
       "        vertical-align: middle;\n",
       "    }\n",
       "\n",
       "    .dataframe tbody tr th {\n",
       "        vertical-align: top;\n",
       "    }\n",
       "\n",
       "    .dataframe thead th {\n",
       "        text-align: right;\n",
       "    }\n",
       "</style>\n",
       "<table border=\"1\" class=\"dataframe\">\n",
       "  <thead>\n",
       "    <tr style=\"text-align: right;\">\n",
       "      <th></th>\n",
       "      <th>name</th>\n",
       "      <th>album</th>\n",
       "      <th>artist</th>\n",
       "      <th>release_date</th>\n",
       "      <th>length</th>\n",
       "      <th>popularity</th>\n",
       "      <th>acousticness</th>\n",
       "      <th>danceability</th>\n",
       "      <th>energy</th>\n",
       "      <th>instrumentalness</th>\n",
       "      <th>liveness</th>\n",
       "      <th>loudness</th>\n",
       "      <th>speechiness</th>\n",
       "      <th>tempo</th>\n",
       "      <th>time_signature</th>\n",
       "    </tr>\n",
       "  </thead>\n",
       "  <tbody>\n",
       "    <tr>\n",
       "      <th>0</th>\n",
       "      <td>Fast Car</td>\n",
       "      <td>Fast Car</td>\n",
       "      <td>Jonas Blue</td>\n",
       "      <td>2015-12-04</td>\n",
       "      <td>212424</td>\n",
       "      <td>0</td>\n",
       "      <td>0.4530</td>\n",
       "      <td>0.459</td>\n",
       "      <td>0.587</td>\n",
       "      <td>0.0</td>\n",
       "      <td>0.3070</td>\n",
       "      <td>-6.983</td>\n",
       "      <td>0.0785</td>\n",
       "      <td>113.901</td>\n",
       "      <td>4</td>\n",
       "    </tr>\n",
       "    <tr>\n",
       "      <th>1</th>\n",
       "      <td>Sorry Not Sorry</td>\n",
       "      <td>Sorry Not Sorry</td>\n",
       "      <td>Demi Lovato</td>\n",
       "      <td>2017-07-11</td>\n",
       "      <td>203760</td>\n",
       "      <td>0</td>\n",
       "      <td>0.0252</td>\n",
       "      <td>0.701</td>\n",
       "      <td>0.638</td>\n",
       "      <td>0.0</td>\n",
       "      <td>0.2560</td>\n",
       "      <td>-6.889</td>\n",
       "      <td>0.2380</td>\n",
       "      <td>144.084</td>\n",
       "      <td>4</td>\n",
       "    </tr>\n",
       "    <tr>\n",
       "      <th>2</th>\n",
       "      <td>Dynamite</td>\n",
       "      <td>BE</td>\n",
       "      <td>BTS</td>\n",
       "      <td>2020-11-20</td>\n",
       "      <td>199053</td>\n",
       "      <td>86</td>\n",
       "      <td>0.0112</td>\n",
       "      <td>0.746</td>\n",
       "      <td>0.765</td>\n",
       "      <td>0.0</td>\n",
       "      <td>0.0936</td>\n",
       "      <td>-4.410</td>\n",
       "      <td>0.0993</td>\n",
       "      <td>114.044</td>\n",
       "      <td>4</td>\n",
       "    </tr>\n",
       "    <tr>\n",
       "      <th>3</th>\n",
       "      <td>Mood (feat. iann dior)</td>\n",
       "      <td>Mood (feat. iann dior)</td>\n",
       "      <td>24kGoldn</td>\n",
       "      <td>2020-07-24</td>\n",
       "      <td>140525</td>\n",
       "      <td>36</td>\n",
       "      <td>0.2210</td>\n",
       "      <td>0.700</td>\n",
       "      <td>0.722</td>\n",
       "      <td>0.0</td>\n",
       "      <td>0.2720</td>\n",
       "      <td>-3.558</td>\n",
       "      <td>0.0369</td>\n",
       "      <td>90.989</td>\n",
       "      <td>4</td>\n",
       "    </tr>\n",
       "    <tr>\n",
       "      <th>4</th>\n",
       "      <td>Mercy</td>\n",
       "      <td>Mercy</td>\n",
       "      <td>Shawn Mendes</td>\n",
       "      <td>2016-08-18</td>\n",
       "      <td>208733</td>\n",
       "      <td>0</td>\n",
       "      <td>0.1090</td>\n",
       "      <td>0.563</td>\n",
       "      <td>0.684</td>\n",
       "      <td>0.0</td>\n",
       "      <td>0.1100</td>\n",
       "      <td>-4.916</td>\n",
       "      <td>0.0919</td>\n",
       "      <td>147.920</td>\n",
       "      <td>4</td>\n",
       "    </tr>\n",
       "  </tbody>\n",
       "</table>\n",
       "</div>"
      ],
      "text/plain": [
       "                     name                   album        artist release_date  \\\n",
       "0                Fast Car                Fast Car    Jonas Blue   2015-12-04   \n",
       "1         Sorry Not Sorry         Sorry Not Sorry   Demi Lovato   2017-07-11   \n",
       "2                Dynamite                      BE           BTS   2020-11-20   \n",
       "3  Mood (feat. iann dior)  Mood (feat. iann dior)      24kGoldn   2020-07-24   \n",
       "4                   Mercy                   Mercy  Shawn Mendes   2016-08-18   \n",
       "\n",
       "   length  popularity  acousticness  danceability  energy  instrumentalness  \\\n",
       "0  212424           0        0.4530         0.459   0.587               0.0   \n",
       "1  203760           0        0.0252         0.701   0.638               0.0   \n",
       "2  199053          86        0.0112         0.746   0.765               0.0   \n",
       "3  140525          36        0.2210         0.700   0.722               0.0   \n",
       "4  208733           0        0.1090         0.563   0.684               0.0   \n",
       "\n",
       "   liveness  loudness  speechiness    tempo  time_signature  \n",
       "0    0.3070    -6.983       0.0785  113.901               4  \n",
       "1    0.2560    -6.889       0.2380  144.084               4  \n",
       "2    0.0936    -4.410       0.0993  114.044               4  \n",
       "3    0.2720    -3.558       0.0369   90.989               4  \n",
       "4    0.1100    -4.916       0.0919  147.920               4  "
      ]
     },
     "execution_count": 47,
     "metadata": {},
     "output_type": "execute_result"
    }
   ],
   "source": [
    "track_list = []\n",
    "\n",
    "for i in  range(len(track_ids)):\n",
    "    sleep(randint(1,3))\n",
    "    track_data = getTrackFeatures(track_ids[i])\n",
    "    track_list.append(track_data)\n",
    "    \n",
    "Top_Hits = pd.DataFrame(track_list, columns = ['name', 'album', 'artist', 'release_date', 'length', 'popularity', 'acousticness', 'danceability', 'energy', \n",
    "                  'instrumentalness', 'liveness', 'loudness', 'speechiness', 'tempo', 'time_signature'])\n",
    "\n",
    "Top_Hits.head()"
   ]
  },
  {
   "cell_type": "code",
   "execution_count": 48,
   "id": "1f14e772",
   "metadata": {},
   "outputs": [
    {
     "data": {
      "text/plain": [
       "(100, 15)"
      ]
     },
     "execution_count": 48,
     "metadata": {},
     "output_type": "execute_result"
    }
   ],
   "source": [
    "Top_Hits.shape"
   ]
  },
  {
   "cell_type": "code",
   "execution_count": null,
   "id": "9acb8f5c",
   "metadata": {},
   "outputs": [],
   "source": [
    "# create function to extract contributing artists as lists from each song\n",
    "# def track_artists(spotify_tracks):\n",
    "#     artists = [[track['track']['artists'][x]['name'] for x in range(len(track['track']['artists']))]for track in spotify_tracks]\n",
    "#     return artists"
   ]
  },
  {
   "cell_type": "code",
   "execution_count": null,
   "id": "5e9ba787",
   "metadata": {},
   "outputs": [],
   "source": [
    "# #create function to extract track names from a list of track names and return the result as a list\n",
    "# def track_titles(spotify_tracks):\n",
    "#     titles = [track['track']['name']for track in spotify_tracks]\n",
    "#     return titles"
   ]
  },
  {
   "cell_type": "code",
   "execution_count": 80,
   "id": "cef5e477",
   "metadata": {},
   "outputs": [],
   "source": [
    "# sp.next(playlist)"
   ]
  },
  {
   "cell_type": "code",
   "execution_count": 192,
   "id": "4cb6c63a",
   "metadata": {},
   "outputs": [],
   "source": [
    "# df_names = pd.DataFrame(names_playlist)\n",
    "# df_names"
   ]
  },
  {
   "cell_type": "code",
   "execution_count": 19,
   "id": "2ff5a599",
   "metadata": {},
   "outputs": [],
   "source": [
    "from random import randint\n",
    "from time import sleep\n",
    "\n",
    "def get_playlist_tracks(playlist_id):\n",
    "    results = sp.user_playlist_tracks(\"spotify\",playlist_id)\n",
    "    tracks = results['items']\n",
    "    while results['next']!=None:\n",
    "        results = sp.next(results)\n",
    "        tracks = tracks + results['items']\n",
    "        sleep(randint(1,3))\n",
    "    return tracks"
   ]
  },
  {
   "cell_type": "code",
   "execution_count": 20,
   "id": "3ed0e14d",
   "metadata": {},
   "outputs": [],
   "source": [
    "whole_playlist = get_playlist_tracks(\"5orZL8SetQM1LR3pMXZMOa\")"
   ]
  },
  {
   "cell_type": "code",
   "execution_count": 21,
   "id": "70849b12",
   "metadata": {},
   "outputs": [
    {
     "data": {
      "text/plain": [
       "653"
      ]
     },
     "execution_count": 21,
     "metadata": {},
     "output_type": "execute_result"
    }
   ],
   "source": [
    "len(whole_playlist)"
   ]
  },
  {
   "cell_type": "code",
   "execution_count": 182,
   "id": "075a4574",
   "metadata": {},
   "outputs": [
    {
     "data": {
      "text/plain": [
       "'Demi Lovato'"
      ]
     },
     "execution_count": 182,
     "metadata": {},
     "output_type": "execute_result"
    }
   ],
   "source": [
    "whole_playlist[1]['track']['artists'][0]['name']"
   ]
  },
  {
   "cell_type": "code",
   "execution_count": 183,
   "id": "b22395fa",
   "metadata": {},
   "outputs": [],
   "source": [
    "def track_artists(spotify_tracks):\n",
    "    artist = [whole_playlist[i]['track']['artists'][0]['name'] for i in range(len(spotify_tracks))]\n",
    "    return artist"
   ]
  },
  {
   "cell_type": "code",
   "execution_count": 191,
   "id": "b0d45dee",
   "metadata": {},
   "outputs": [],
   "source": [
    "songs_artist = track_artists(whole_playlist)\n",
    "# songs_artist"
   ]
  },
  {
   "cell_type": "code",
   "execution_count": 196,
   "id": "c5df8960",
   "metadata": {},
   "outputs": [
    {
     "data": {
      "text/html": [
       "<div>\n",
       "<style scoped>\n",
       "    .dataframe tbody tr th:only-of-type {\n",
       "        vertical-align: middle;\n",
       "    }\n",
       "\n",
       "    .dataframe tbody tr th {\n",
       "        vertical-align: top;\n",
       "    }\n",
       "\n",
       "    .dataframe thead th {\n",
       "        text-align: right;\n",
       "    }\n",
       "</style>\n",
       "<table border=\"1\" class=\"dataframe\">\n",
       "  <thead>\n",
       "    <tr style=\"text-align: right;\">\n",
       "      <th></th>\n",
       "      <th>artist</th>\n",
       "    </tr>\n",
       "  </thead>\n",
       "  <tbody>\n",
       "    <tr>\n",
       "      <th>0</th>\n",
       "      <td>Jonas Blue</td>\n",
       "    </tr>\n",
       "    <tr>\n",
       "      <th>1</th>\n",
       "      <td>Demi Lovato</td>\n",
       "    </tr>\n",
       "    <tr>\n",
       "      <th>2</th>\n",
       "      <td>BTS</td>\n",
       "    </tr>\n",
       "    <tr>\n",
       "      <th>3</th>\n",
       "      <td>24kGoldn</td>\n",
       "    </tr>\n",
       "    <tr>\n",
       "      <th>4</th>\n",
       "      <td>Shawn Mendes</td>\n",
       "    </tr>\n",
       "    <tr>\n",
       "      <th>...</th>\n",
       "      <td>...</td>\n",
       "    </tr>\n",
       "    <tr>\n",
       "      <th>648</th>\n",
       "      <td>Chris Brown</td>\n",
       "    </tr>\n",
       "    <tr>\n",
       "      <th>649</th>\n",
       "      <td>Olivia Rodrigo</td>\n",
       "    </tr>\n",
       "    <tr>\n",
       "      <th>650</th>\n",
       "      <td>Justin Wellington</td>\n",
       "    </tr>\n",
       "    <tr>\n",
       "      <th>651</th>\n",
       "      <td>Ed Sheeran</td>\n",
       "    </tr>\n",
       "    <tr>\n",
       "      <th>652</th>\n",
       "      <td>Afrojack</td>\n",
       "    </tr>\n",
       "  </tbody>\n",
       "</table>\n",
       "<p>653 rows × 1 columns</p>\n",
       "</div>"
      ],
      "text/plain": [
       "                artist\n",
       "0           Jonas Blue\n",
       "1          Demi Lovato\n",
       "2                  BTS\n",
       "3             24kGoldn\n",
       "4         Shawn Mendes\n",
       "..                 ...\n",
       "648        Chris Brown\n",
       "649     Olivia Rodrigo\n",
       "650  Justin Wellington\n",
       "651         Ed Sheeran\n",
       "652           Afrojack\n",
       "\n",
       "[653 rows x 1 columns]"
      ]
     },
     "execution_count": 196,
     "metadata": {},
     "output_type": "execute_result"
    }
   ],
   "source": [
    "df_artist = pd.DataFrame(songs_artist, columns=['artist'])\n",
    "df_artist"
   ]
  },
  {
   "cell_type": "code",
   "execution_count": 106,
   "id": "a2b0afd1",
   "metadata": {},
   "outputs": [],
   "source": [
    "def track_name(spotify_tracks):\n",
    "    name = [whole_playlist[i]['track']['name'] for i in range(len(spotify_tracks))]\n",
    "    return name"
   ]
  },
  {
   "cell_type": "code",
   "execution_count": 190,
   "id": "5bc5e04e",
   "metadata": {},
   "outputs": [],
   "source": [
    "songs_name = track_name(whole_playlist)\n",
    "\n",
    "# songs_name"
   ]
  },
  {
   "cell_type": "code",
   "execution_count": 161,
   "id": "5836a676",
   "metadata": {},
   "outputs": [
    {
     "data": {
      "text/html": [
       "<div>\n",
       "<style scoped>\n",
       "    .dataframe tbody tr th:only-of-type {\n",
       "        vertical-align: middle;\n",
       "    }\n",
       "\n",
       "    .dataframe tbody tr th {\n",
       "        vertical-align: top;\n",
       "    }\n",
       "\n",
       "    .dataframe thead th {\n",
       "        text-align: right;\n",
       "    }\n",
       "</style>\n",
       "<table border=\"1\" class=\"dataframe\">\n",
       "  <thead>\n",
       "    <tr style=\"text-align: right;\">\n",
       "      <th></th>\n",
       "      <th>name</th>\n",
       "    </tr>\n",
       "  </thead>\n",
       "  <tbody>\n",
       "    <tr>\n",
       "      <th>0</th>\n",
       "      <td>Fast Car</td>\n",
       "    </tr>\n",
       "    <tr>\n",
       "      <th>1</th>\n",
       "      <td>Sorry Not Sorry</td>\n",
       "    </tr>\n",
       "    <tr>\n",
       "      <th>2</th>\n",
       "      <td>Dynamite</td>\n",
       "    </tr>\n",
       "    <tr>\n",
       "      <th>3</th>\n",
       "      <td>Mood (feat. iann dior)</td>\n",
       "    </tr>\n",
       "    <tr>\n",
       "      <th>4</th>\n",
       "      <td>Mercy</td>\n",
       "    </tr>\n",
       "    <tr>\n",
       "      <th>...</th>\n",
       "      <td>...</td>\n",
       "    </tr>\n",
       "    <tr>\n",
       "      <th>648</th>\n",
       "      <td>Yeah 3x</td>\n",
       "    </tr>\n",
       "    <tr>\n",
       "      <th>649</th>\n",
       "      <td>good 4 u</td>\n",
       "    </tr>\n",
       "    <tr>\n",
       "      <th>650</th>\n",
       "      <td>Iko Iko (My Bestie)</td>\n",
       "    </tr>\n",
       "    <tr>\n",
       "      <th>651</th>\n",
       "      <td>Bad Habits</td>\n",
       "    </tr>\n",
       "    <tr>\n",
       "      <th>652</th>\n",
       "      <td>Hero</td>\n",
       "    </tr>\n",
       "  </tbody>\n",
       "</table>\n",
       "<p>653 rows × 1 columns</p>\n",
       "</div>"
      ],
      "text/plain": [
       "                       name\n",
       "0                  Fast Car\n",
       "1           Sorry Not Sorry\n",
       "2                  Dynamite\n",
       "3    Mood (feat. iann dior)\n",
       "4                     Mercy\n",
       "..                      ...\n",
       "648                 Yeah 3x\n",
       "649                good 4 u\n",
       "650     Iko Iko (My Bestie)\n",
       "651              Bad Habits\n",
       "652                    Hero\n",
       "\n",
       "[653 rows x 1 columns]"
      ]
     },
     "execution_count": 161,
     "metadata": {},
     "output_type": "execute_result"
    }
   ],
   "source": [
    "df_name = pd.DataFrame(songs_name, columns = ['name'])\n",
    "df_name"
   ]
  },
  {
   "cell_type": "code",
   "execution_count": 84,
   "id": "c806a0ff",
   "metadata": {},
   "outputs": [
    {
     "data": {
      "text/plain": [
       "'spotify:track:6OZh916QF8XNunWaP97WEZ'"
      ]
     },
     "execution_count": 84,
     "metadata": {},
     "output_type": "execute_result"
    }
   ],
   "source": [
    "song_uri = whole_playlist[0]['track']['uri']\n",
    "song_uri"
   ]
  },
  {
   "cell_type": "code",
   "execution_count": 193,
   "id": "c5fb8938",
   "metadata": {},
   "outputs": [],
   "source": [
    "#create function to extract track uris from a list of tracks\n",
    "def track_uris(spotify_tracks):\n",
    "    uris = [whole_playlist[i]['track']['uri'] for i in range(len(spotify_tracks))]\n",
    "    return uris\n",
    "song_uris = track_uris(whole_playlist)\n",
    "\n",
    "# song_uris"
   ]
  },
  {
   "cell_type": "code",
   "execution_count": 146,
   "id": "fedb63fa",
   "metadata": {},
   "outputs": [
    {
     "data": {
      "text/html": [
       "<div>\n",
       "<style scoped>\n",
       "    .dataframe tbody tr th:only-of-type {\n",
       "        vertical-align: middle;\n",
       "    }\n",
       "\n",
       "    .dataframe tbody tr th {\n",
       "        vertical-align: top;\n",
       "    }\n",
       "\n",
       "    .dataframe thead th {\n",
       "        text-align: right;\n",
       "    }\n",
       "</style>\n",
       "<table border=\"1\" class=\"dataframe\">\n",
       "  <thead>\n",
       "    <tr style=\"text-align: right;\">\n",
       "      <th></th>\n",
       "      <th>uri</th>\n",
       "    </tr>\n",
       "  </thead>\n",
       "  <tbody>\n",
       "    <tr>\n",
       "      <th>0</th>\n",
       "      <td>spotify:track:6OZh916QF8XNunWaP97WEZ</td>\n",
       "    </tr>\n",
       "    <tr>\n",
       "      <th>1</th>\n",
       "      <td>spotify:track:25C5CowdsfXld2jJanbiex</td>\n",
       "    </tr>\n",
       "    <tr>\n",
       "      <th>2</th>\n",
       "      <td>spotify:track:4saklk6nie3yiGePpBwUoc</td>\n",
       "    </tr>\n",
       "    <tr>\n",
       "      <th>3</th>\n",
       "      <td>spotify:track:3tjFYV6RSFtuktYl3ZtYcq</td>\n",
       "    </tr>\n",
       "    <tr>\n",
       "      <th>4</th>\n",
       "      <td>spotify:track:4lYTkvMkcNRj9uoSr8Zpws</td>\n",
       "    </tr>\n",
       "    <tr>\n",
       "      <th>...</th>\n",
       "      <td>...</td>\n",
       "    </tr>\n",
       "    <tr>\n",
       "      <th>648</th>\n",
       "      <td>spotify:track:2QtxlzvSBONjs1bDC34ixs</td>\n",
       "    </tr>\n",
       "    <tr>\n",
       "      <th>649</th>\n",
       "      <td>spotify:track:6PERP62TejQjgHu81OHxgM</td>\n",
       "    </tr>\n",
       "    <tr>\n",
       "      <th>650</th>\n",
       "      <td>spotify:track:7MC4XR9M9amdmKQr2iDF7i</td>\n",
       "    </tr>\n",
       "    <tr>\n",
       "      <th>651</th>\n",
       "      <td>spotify:track:6PQ88X9TkUIAUIZJHW2upE</td>\n",
       "    </tr>\n",
       "    <tr>\n",
       "      <th>652</th>\n",
       "      <td>spotify:track:29p6UW08MXzwj9thWBW3uF</td>\n",
       "    </tr>\n",
       "  </tbody>\n",
       "</table>\n",
       "<p>653 rows × 1 columns</p>\n",
       "</div>"
      ],
      "text/plain": [
       "                                      uri\n",
       "0    spotify:track:6OZh916QF8XNunWaP97WEZ\n",
       "1    spotify:track:25C5CowdsfXld2jJanbiex\n",
       "2    spotify:track:4saklk6nie3yiGePpBwUoc\n",
       "3    spotify:track:3tjFYV6RSFtuktYl3ZtYcq\n",
       "4    spotify:track:4lYTkvMkcNRj9uoSr8Zpws\n",
       "..                                    ...\n",
       "648  spotify:track:2QtxlzvSBONjs1bDC34ixs\n",
       "649  spotify:track:6PERP62TejQjgHu81OHxgM\n",
       "650  spotify:track:7MC4XR9M9amdmKQr2iDF7i\n",
       "651  spotify:track:6PQ88X9TkUIAUIZJHW2upE\n",
       "652  spotify:track:29p6UW08MXzwj9thWBW3uF\n",
       "\n",
       "[653 rows x 1 columns]"
      ]
     },
     "execution_count": 146,
     "metadata": {},
     "output_type": "execute_result"
    }
   ],
   "source": [
    "df_uri = pd.DataFrame(song_uris, columns = ['uri'])\n",
    "df_uri"
   ]
  },
  {
   "cell_type": "code",
   "execution_count": 151,
   "id": "e944b46f",
   "metadata": {},
   "outputs": [],
   "source": [
    "features = [sp.audio_features(i) for i in (song_uris)]\n",
    "# features"
   ]
  },
  {
   "cell_type": "code",
   "execution_count": null,
   "id": "ff406f53",
   "metadata": {},
   "outputs": [],
   "source": [
    "# def audio_features_songs(spotify_tracks):\n",
    "#     features_uris = [features for song_uris in spotify_tracks]\n",
    "#     return features_uris\n",
    "# features_uris = audio_features_songs(whole_playlist)\n",
    "\n",
    "# features_uris"
   ]
  },
  {
   "cell_type": "code",
   "execution_count": 153,
   "id": "2deeadfe",
   "metadata": {},
   "outputs": [
    {
     "data": {
      "text/html": [
       "<div>\n",
       "<style scoped>\n",
       "    .dataframe tbody tr th:only-of-type {\n",
       "        vertical-align: middle;\n",
       "    }\n",
       "\n",
       "    .dataframe tbody tr th {\n",
       "        vertical-align: top;\n",
       "    }\n",
       "\n",
       "    .dataframe thead th {\n",
       "        text-align: right;\n",
       "    }\n",
       "</style>\n",
       "<table border=\"1\" class=\"dataframe\">\n",
       "  <thead>\n",
       "    <tr style=\"text-align: right;\">\n",
       "      <th></th>\n",
       "      <th>danceability</th>\n",
       "      <th>energy</th>\n",
       "      <th>key</th>\n",
       "      <th>loudness</th>\n",
       "      <th>mode</th>\n",
       "      <th>speechiness</th>\n",
       "      <th>acousticness</th>\n",
       "      <th>instrumentalness</th>\n",
       "    </tr>\n",
       "  </thead>\n",
       "  <tbody>\n",
       "    <tr>\n",
       "      <th>0</th>\n",
       "      <td>0.459</td>\n",
       "      <td>0.587</td>\n",
       "      <td>9</td>\n",
       "      <td>-6.983</td>\n",
       "      <td>1</td>\n",
       "      <td>0.0785</td>\n",
       "      <td>0.453000</td>\n",
       "      <td>0.000000</td>\n",
       "    </tr>\n",
       "    <tr>\n",
       "      <th>1</th>\n",
       "      <td>0.701</td>\n",
       "      <td>0.638</td>\n",
       "      <td>11</td>\n",
       "      <td>-6.889</td>\n",
       "      <td>0</td>\n",
       "      <td>0.2380</td>\n",
       "      <td>0.025200</td>\n",
       "      <td>0.000000</td>\n",
       "    </tr>\n",
       "    <tr>\n",
       "      <th>2</th>\n",
       "      <td>0.746</td>\n",
       "      <td>0.765</td>\n",
       "      <td>6</td>\n",
       "      <td>-4.410</td>\n",
       "      <td>0</td>\n",
       "      <td>0.0993</td>\n",
       "      <td>0.011200</td>\n",
       "      <td>0.000000</td>\n",
       "    </tr>\n",
       "    <tr>\n",
       "      <th>3</th>\n",
       "      <td>0.700</td>\n",
       "      <td>0.722</td>\n",
       "      <td>7</td>\n",
       "      <td>-3.558</td>\n",
       "      <td>0</td>\n",
       "      <td>0.0369</td>\n",
       "      <td>0.221000</td>\n",
       "      <td>0.000000</td>\n",
       "    </tr>\n",
       "    <tr>\n",
       "      <th>4</th>\n",
       "      <td>0.563</td>\n",
       "      <td>0.684</td>\n",
       "      <td>11</td>\n",
       "      <td>-4.916</td>\n",
       "      <td>0</td>\n",
       "      <td>0.0919</td>\n",
       "      <td>0.109000</td>\n",
       "      <td>0.000000</td>\n",
       "    </tr>\n",
       "    <tr>\n",
       "      <th>...</th>\n",
       "      <td>...</td>\n",
       "      <td>...</td>\n",
       "      <td>...</td>\n",
       "      <td>...</td>\n",
       "      <td>...</td>\n",
       "      <td>...</td>\n",
       "      <td>...</td>\n",
       "      <td>...</td>\n",
       "    </tr>\n",
       "    <tr>\n",
       "      <th>648</th>\n",
       "      <td>0.705</td>\n",
       "      <td>0.882</td>\n",
       "      <td>11</td>\n",
       "      <td>-3.201</td>\n",
       "      <td>0</td>\n",
       "      <td>0.0445</td>\n",
       "      <td>0.000369</td>\n",
       "      <td>0.000001</td>\n",
       "    </tr>\n",
       "    <tr>\n",
       "      <th>649</th>\n",
       "      <td>0.556</td>\n",
       "      <td>0.661</td>\n",
       "      <td>6</td>\n",
       "      <td>-5.052</td>\n",
       "      <td>0</td>\n",
       "      <td>0.2040</td>\n",
       "      <td>0.300000</td>\n",
       "      <td>0.000000</td>\n",
       "    </tr>\n",
       "    <tr>\n",
       "      <th>650</th>\n",
       "      <td>0.862</td>\n",
       "      <td>0.753</td>\n",
       "      <td>5</td>\n",
       "      <td>-5.356</td>\n",
       "      <td>1</td>\n",
       "      <td>0.0625</td>\n",
       "      <td>0.131000</td>\n",
       "      <td>0.000002</td>\n",
       "    </tr>\n",
       "    <tr>\n",
       "      <th>651</th>\n",
       "      <td>0.808</td>\n",
       "      <td>0.897</td>\n",
       "      <td>11</td>\n",
       "      <td>-3.712</td>\n",
       "      <td>0</td>\n",
       "      <td>0.0348</td>\n",
       "      <td>0.046900</td>\n",
       "      <td>0.000031</td>\n",
       "    </tr>\n",
       "    <tr>\n",
       "      <th>652</th>\n",
       "      <td>0.713</td>\n",
       "      <td>0.772</td>\n",
       "      <td>2</td>\n",
       "      <td>-5.032</td>\n",
       "      <td>1</td>\n",
       "      <td>0.0313</td>\n",
       "      <td>0.157000</td>\n",
       "      <td>0.000000</td>\n",
       "    </tr>\n",
       "  </tbody>\n",
       "</table>\n",
       "<p>653 rows × 8 columns</p>\n",
       "</div>"
      ],
      "text/plain": [
       "     danceability  energy  key  loudness  mode  speechiness  acousticness  \\\n",
       "0           0.459   0.587    9    -6.983     1       0.0785      0.453000   \n",
       "1           0.701   0.638   11    -6.889     0       0.2380      0.025200   \n",
       "2           0.746   0.765    6    -4.410     0       0.0993      0.011200   \n",
       "3           0.700   0.722    7    -3.558     0       0.0369      0.221000   \n",
       "4           0.563   0.684   11    -4.916     0       0.0919      0.109000   \n",
       "..            ...     ...  ...       ...   ...          ...           ...   \n",
       "648         0.705   0.882   11    -3.201     0       0.0445      0.000369   \n",
       "649         0.556   0.661    6    -5.052     0       0.2040      0.300000   \n",
       "650         0.862   0.753    5    -5.356     1       0.0625      0.131000   \n",
       "651         0.808   0.897   11    -3.712     0       0.0348      0.046900   \n",
       "652         0.713   0.772    2    -5.032     1       0.0313      0.157000   \n",
       "\n",
       "     instrumentalness  \n",
       "0            0.000000  \n",
       "1            0.000000  \n",
       "2            0.000000  \n",
       "3            0.000000  \n",
       "4            0.000000  \n",
       "..                ...  \n",
       "648          0.000001  \n",
       "649          0.000000  \n",
       "650          0.000002  \n",
       "651          0.000031  \n",
       "652          0.000000  \n",
       "\n",
       "[653 rows x 8 columns]"
      ]
     },
     "execution_count": 153,
     "metadata": {},
     "output_type": "execute_result"
    }
   ],
   "source": [
    "df_features = pd.DataFrame.from_dict({'danceability':danceability, 'energy':energy, 'key':key, 'loudness':loudness, 'mode':mode, 'speechiness':speechiness, 'acousticness':acousticness, 'instrumentalness':instrumentalness})\n",
    "df_features"
   ]
  },
  {
   "cell_type": "code",
   "execution_count": 149,
   "id": "6fbff817",
   "metadata": {},
   "outputs": [],
   "source": [
    "danceability = [df_features['audio_features'][i]['danceability'] for i in range(len(df_features))]\n",
    "energy = [df_features['audio_features'][i]['energy'] for i in range(len(df_features))]\n",
    "key = [df_features['audio_features'][i]['key'] for i in range(len(df_features))]\n",
    "loudness = [df_features['audio_features'][i]['loudness'] for i in range(len(df_features))]\n",
    "mode = [df_features['audio_features'][i]['mode'] for i in range(len(df_features))]\n",
    "speechiness = [df_features['audio_features'][i]['speechiness'] for i in range(len(df_features))]\n",
    "acousticness = [df_features['audio_features'][i]['acousticness'] for i in range(len(df_features))]\n",
    "instrumentalness = [df_features['audio_features'][i]['instrumentalness'] for i in range(len(df_features))]"
   ]
  },
  {
   "cell_type": "code",
   "execution_count": 197,
   "id": "8547180d",
   "metadata": {},
   "outputs": [],
   "source": [
    "df_final = pd.concat([df_artist, df_name, df_uri, df_features], axis=1)"
   ]
  },
  {
   "cell_type": "code",
   "execution_count": 198,
   "id": "69af84e0",
   "metadata": {},
   "outputs": [
    {
     "data": {
      "text/html": [
       "<div>\n",
       "<style scoped>\n",
       "    .dataframe tbody tr th:only-of-type {\n",
       "        vertical-align: middle;\n",
       "    }\n",
       "\n",
       "    .dataframe tbody tr th {\n",
       "        vertical-align: top;\n",
       "    }\n",
       "\n",
       "    .dataframe thead th {\n",
       "        text-align: right;\n",
       "    }\n",
       "</style>\n",
       "<table border=\"1\" class=\"dataframe\">\n",
       "  <thead>\n",
       "    <tr style=\"text-align: right;\">\n",
       "      <th></th>\n",
       "      <th>artist</th>\n",
       "      <th>name</th>\n",
       "      <th>uri</th>\n",
       "      <th>danceability</th>\n",
       "      <th>energy</th>\n",
       "      <th>key</th>\n",
       "      <th>loudness</th>\n",
       "      <th>mode</th>\n",
       "      <th>speechiness</th>\n",
       "      <th>acousticness</th>\n",
       "      <th>instrumentalness</th>\n",
       "    </tr>\n",
       "  </thead>\n",
       "  <tbody>\n",
       "    <tr>\n",
       "      <th>0</th>\n",
       "      <td>Jonas Blue</td>\n",
       "      <td>Fast Car</td>\n",
       "      <td>spotify:track:6OZh916QF8XNunWaP97WEZ</td>\n",
       "      <td>0.459</td>\n",
       "      <td>0.587</td>\n",
       "      <td>9</td>\n",
       "      <td>-6.983</td>\n",
       "      <td>1</td>\n",
       "      <td>0.0785</td>\n",
       "      <td>0.453000</td>\n",
       "      <td>0.000000</td>\n",
       "    </tr>\n",
       "    <tr>\n",
       "      <th>1</th>\n",
       "      <td>Demi Lovato</td>\n",
       "      <td>Sorry Not Sorry</td>\n",
       "      <td>spotify:track:25C5CowdsfXld2jJanbiex</td>\n",
       "      <td>0.701</td>\n",
       "      <td>0.638</td>\n",
       "      <td>11</td>\n",
       "      <td>-6.889</td>\n",
       "      <td>0</td>\n",
       "      <td>0.2380</td>\n",
       "      <td>0.025200</td>\n",
       "      <td>0.000000</td>\n",
       "    </tr>\n",
       "    <tr>\n",
       "      <th>2</th>\n",
       "      <td>BTS</td>\n",
       "      <td>Dynamite</td>\n",
       "      <td>spotify:track:4saklk6nie3yiGePpBwUoc</td>\n",
       "      <td>0.746</td>\n",
       "      <td>0.765</td>\n",
       "      <td>6</td>\n",
       "      <td>-4.410</td>\n",
       "      <td>0</td>\n",
       "      <td>0.0993</td>\n",
       "      <td>0.011200</td>\n",
       "      <td>0.000000</td>\n",
       "    </tr>\n",
       "    <tr>\n",
       "      <th>3</th>\n",
       "      <td>24kGoldn</td>\n",
       "      <td>Mood (feat. iann dior)</td>\n",
       "      <td>spotify:track:3tjFYV6RSFtuktYl3ZtYcq</td>\n",
       "      <td>0.700</td>\n",
       "      <td>0.722</td>\n",
       "      <td>7</td>\n",
       "      <td>-3.558</td>\n",
       "      <td>0</td>\n",
       "      <td>0.0369</td>\n",
       "      <td>0.221000</td>\n",
       "      <td>0.000000</td>\n",
       "    </tr>\n",
       "    <tr>\n",
       "      <th>4</th>\n",
       "      <td>Shawn Mendes</td>\n",
       "      <td>Mercy</td>\n",
       "      <td>spotify:track:4lYTkvMkcNRj9uoSr8Zpws</td>\n",
       "      <td>0.563</td>\n",
       "      <td>0.684</td>\n",
       "      <td>11</td>\n",
       "      <td>-4.916</td>\n",
       "      <td>0</td>\n",
       "      <td>0.0919</td>\n",
       "      <td>0.109000</td>\n",
       "      <td>0.000000</td>\n",
       "    </tr>\n",
       "    <tr>\n",
       "      <th>...</th>\n",
       "      <td>...</td>\n",
       "      <td>...</td>\n",
       "      <td>...</td>\n",
       "      <td>...</td>\n",
       "      <td>...</td>\n",
       "      <td>...</td>\n",
       "      <td>...</td>\n",
       "      <td>...</td>\n",
       "      <td>...</td>\n",
       "      <td>...</td>\n",
       "      <td>...</td>\n",
       "    </tr>\n",
       "    <tr>\n",
       "      <th>648</th>\n",
       "      <td>Chris Brown</td>\n",
       "      <td>Yeah 3x</td>\n",
       "      <td>spotify:track:2QtxlzvSBONjs1bDC34ixs</td>\n",
       "      <td>0.705</td>\n",
       "      <td>0.882</td>\n",
       "      <td>11</td>\n",
       "      <td>-3.201</td>\n",
       "      <td>0</td>\n",
       "      <td>0.0445</td>\n",
       "      <td>0.000369</td>\n",
       "      <td>0.000001</td>\n",
       "    </tr>\n",
       "    <tr>\n",
       "      <th>649</th>\n",
       "      <td>Olivia Rodrigo</td>\n",
       "      <td>good 4 u</td>\n",
       "      <td>spotify:track:6PERP62TejQjgHu81OHxgM</td>\n",
       "      <td>0.556</td>\n",
       "      <td>0.661</td>\n",
       "      <td>6</td>\n",
       "      <td>-5.052</td>\n",
       "      <td>0</td>\n",
       "      <td>0.2040</td>\n",
       "      <td>0.300000</td>\n",
       "      <td>0.000000</td>\n",
       "    </tr>\n",
       "    <tr>\n",
       "      <th>650</th>\n",
       "      <td>Justin Wellington</td>\n",
       "      <td>Iko Iko (My Bestie)</td>\n",
       "      <td>spotify:track:7MC4XR9M9amdmKQr2iDF7i</td>\n",
       "      <td>0.862</td>\n",
       "      <td>0.753</td>\n",
       "      <td>5</td>\n",
       "      <td>-5.356</td>\n",
       "      <td>1</td>\n",
       "      <td>0.0625</td>\n",
       "      <td>0.131000</td>\n",
       "      <td>0.000002</td>\n",
       "    </tr>\n",
       "    <tr>\n",
       "      <th>651</th>\n",
       "      <td>Ed Sheeran</td>\n",
       "      <td>Bad Habits</td>\n",
       "      <td>spotify:track:6PQ88X9TkUIAUIZJHW2upE</td>\n",
       "      <td>0.808</td>\n",
       "      <td>0.897</td>\n",
       "      <td>11</td>\n",
       "      <td>-3.712</td>\n",
       "      <td>0</td>\n",
       "      <td>0.0348</td>\n",
       "      <td>0.046900</td>\n",
       "      <td>0.000031</td>\n",
       "    </tr>\n",
       "    <tr>\n",
       "      <th>652</th>\n",
       "      <td>Afrojack</td>\n",
       "      <td>Hero</td>\n",
       "      <td>spotify:track:29p6UW08MXzwj9thWBW3uF</td>\n",
       "      <td>0.713</td>\n",
       "      <td>0.772</td>\n",
       "      <td>2</td>\n",
       "      <td>-5.032</td>\n",
       "      <td>1</td>\n",
       "      <td>0.0313</td>\n",
       "      <td>0.157000</td>\n",
       "      <td>0.000000</td>\n",
       "    </tr>\n",
       "  </tbody>\n",
       "</table>\n",
       "<p>653 rows × 11 columns</p>\n",
       "</div>"
      ],
      "text/plain": [
       "                artist                    name  \\\n",
       "0           Jonas Blue                Fast Car   \n",
       "1          Demi Lovato         Sorry Not Sorry   \n",
       "2                  BTS                Dynamite   \n",
       "3             24kGoldn  Mood (feat. iann dior)   \n",
       "4         Shawn Mendes                   Mercy   \n",
       "..                 ...                     ...   \n",
       "648        Chris Brown                 Yeah 3x   \n",
       "649     Olivia Rodrigo                good 4 u   \n",
       "650  Justin Wellington     Iko Iko (My Bestie)   \n",
       "651         Ed Sheeran              Bad Habits   \n",
       "652           Afrojack                    Hero   \n",
       "\n",
       "                                      uri  danceability  energy  key  \\\n",
       "0    spotify:track:6OZh916QF8XNunWaP97WEZ         0.459   0.587    9   \n",
       "1    spotify:track:25C5CowdsfXld2jJanbiex         0.701   0.638   11   \n",
       "2    spotify:track:4saklk6nie3yiGePpBwUoc         0.746   0.765    6   \n",
       "3    spotify:track:3tjFYV6RSFtuktYl3ZtYcq         0.700   0.722    7   \n",
       "4    spotify:track:4lYTkvMkcNRj9uoSr8Zpws         0.563   0.684   11   \n",
       "..                                    ...           ...     ...  ...   \n",
       "648  spotify:track:2QtxlzvSBONjs1bDC34ixs         0.705   0.882   11   \n",
       "649  spotify:track:6PERP62TejQjgHu81OHxgM         0.556   0.661    6   \n",
       "650  spotify:track:7MC4XR9M9amdmKQr2iDF7i         0.862   0.753    5   \n",
       "651  spotify:track:6PQ88X9TkUIAUIZJHW2upE         0.808   0.897   11   \n",
       "652  spotify:track:29p6UW08MXzwj9thWBW3uF         0.713   0.772    2   \n",
       "\n",
       "     loudness  mode  speechiness  acousticness  instrumentalness  \n",
       "0      -6.983     1       0.0785      0.453000          0.000000  \n",
       "1      -6.889     0       0.2380      0.025200          0.000000  \n",
       "2      -4.410     0       0.0993      0.011200          0.000000  \n",
       "3      -3.558     0       0.0369      0.221000          0.000000  \n",
       "4      -4.916     0       0.0919      0.109000          0.000000  \n",
       "..        ...   ...          ...           ...               ...  \n",
       "648    -3.201     0       0.0445      0.000369          0.000001  \n",
       "649    -5.052     0       0.2040      0.300000          0.000000  \n",
       "650    -5.356     1       0.0625      0.131000          0.000002  \n",
       "651    -3.712     0       0.0348      0.046900          0.000031  \n",
       "652    -5.032     1       0.0313      0.157000          0.000000  \n",
       "\n",
       "[653 rows x 11 columns]"
      ]
     },
     "execution_count": 198,
     "metadata": {},
     "output_type": "execute_result"
    }
   ],
   "source": [
    "df_final"
   ]
  },
  {
   "cell_type": "code",
   "execution_count": null,
   "id": "a65dbd65",
   "metadata": {},
   "outputs": [],
   "source": []
  }
 ],
 "metadata": {
  "kernelspec": {
   "display_name": "Python 3",
   "language": "python",
   "name": "python3"
  },
  "language_info": {
   "codemirror_mode": {
    "name": "ipython",
    "version": 3
   },
   "file_extension": ".py",
   "mimetype": "text/x-python",
   "name": "python",
   "nbconvert_exporter": "python",
   "pygments_lexer": "ipython3",
   "version": "3.8.8"
  }
 },
 "nbformat": 4,
 "nbformat_minor": 5
}
